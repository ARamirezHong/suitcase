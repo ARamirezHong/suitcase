{
 "cells": [
  {
   "cell_type": "markdown",
   "metadata": {},
   "source": [
    "### Insert the spec file\n",
    "\n"
   ]
  },
  {
   "cell_type": "code",
   "execution_count": 1,
   "metadata": {
    "collapsed": false
   },
   "outputs": [],
   "source": [
    "\n",
    "from suitcase import spec\n",
    "specfilename = '20150323'\n",
    "sf = spec.Specfile('/home/edill/ixs-data/{}'.format(specfilename))\n",
    "ret = spec.insert_specfile_into_broker(sf)\n",
    "spec.summarize_insertion(*ret)"
   ]
  },
  {
   "cell_type": "markdown",
   "metadata": {},
   "source": [
    "### Show the summary of these scans"
   ]
  },
  {
   "cell_type": "code",
   "execution_count": 2,
   "metadata": {
    "collapsed": false
   },
   "outputs": [
    {
     "name": "stdout",
     "output_type": "stream",
     "text": [
      "+---------------------+---------+--------+------------+----------+------------+\n",
      "|      start-time     | scan_id | uid-6  | stop-uid-6 | duration | num_events |\n",
      "+---------------------+---------+--------+------------+----------+------------+\n",
      "| 2015-03-30 14:52:00 |    13   | f89482 |   ce7b2d   | 0:00:00  |  [1, 51]   |\n",
      "| 2015-03-30 10:52:10 |    12   | 2a952a |   f2c7d4   | 0:00:00  |  [1, 51]   |\n",
      "| 2015-03-27 18:09:48 |    9    | ff1c7e |   4e3bc3   | 0:00:00  |  [1, 41]   |\n",
      "| 2015-03-27 09:33:31 |    8    | f5e63b |   b5c446   | 0:00:00  |  [1, 41]   |\n",
      "| 2015-03-27 09:21:15 |    7    | b92291 |   bf7b3e   | 0:00:00  |  [1, 41]   |\n",
      "| 2015-03-26 16:29:41 |    6    | 8e1f06 |   332cd8   | 0:00:00  |  [1, 41]   |\n",
      "| 2015-03-23 21:19:34 |    5    | f891db |   2a4df9   | 0:00:00  |  [1, 51]   |\n",
      "| 2015-03-23 21:18:53 |    4    | f58e20 |   35718e   | 0:00:00  |   [1, 2]   |\n",
      "| 2015-03-23 20:26:43 |    3    | 2e0bbc |   3c5a31   | 0:00:00  |  [1, 41]   |\n",
      "| 2015-03-23 19:34:47 |    2    | de6376 |   188ac3   | 0:00:00  |  [1, 41]   |\n",
      "| 2015-03-23 18:39:18 |    1    | 3577ca |   648918   | 0:00:00  |  [51, 1]   |\n",
      "+---------------------+---------+--------+------------+----------+------------+\n"
     ]
    }
   ],
   "source": [
    "from databroker import broker, db\n",
    "\n",
    "headers = list(db(specfilename=specfilename))\n",
    "table = broker.summarize(headers, 'start-time', 'scan_id', 'uid-6', 'stop-uid-6', 'duration', 'num_events')\n",
    "\n",
    "print(table)\n"
   ]
  },
  {
   "cell_type": "code",
   "execution_count": null,
   "metadata": {
    "collapsed": true
   },
   "outputs": [],
   "source": []
  }
 ],
 "metadata": {
  "kernelspec": {
   "display_name": "Python 3",
   "language": "python",
   "name": "python3"
  },
  "language_info": {
   "codemirror_mode": {
    "name": "ipython",
    "version": 3
   },
   "file_extension": ".py",
   "mimetype": "text/x-python",
   "name": "python",
   "nbconvert_exporter": "python",
   "pygments_lexer": "ipython3",
   "version": "3.5.1"
  },
  "widgets": {
   "state": {},
   "version": "1.1.2"
  }
 },
 "nbformat": 4,
 "nbformat_minor": 0
}
