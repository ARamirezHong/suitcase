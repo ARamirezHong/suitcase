{
 "cells": [
  {
   "cell_type": "code",
   "execution_count": 1,
   "metadata": {
    "collapsed": false
   },
   "outputs": [],
   "source": [
    "import os\n",
    "from suitcase import spec\n",
    "import logging\n"
   ]
  },
  {
   "cell_type": "code",
   "execution_count": 2,
   "metadata": {
    "collapsed": true
   },
   "outputs": [],
   "source": [
    "root = os.path.join(os.path.expanduser('~'), 'ixs-data')\n",
    "output = {}\n",
    "files_list = [os.path.join(root, f) for f in os.listdir(root) if os.path.isfile(os.path.join(root, f))]"
   ]
  },
  {
   "cell_type": "markdown",
   "metadata": {},
   "source": [
    "### First make sure each specfile can be parsed with Python"
   ]
  },
  {
   "cell_type": "code",
   "execution_count": 3,
   "metadata": {
    "collapsed": false
   },
   "outputs": [
    {
     "name": "stdout",
     "output_type": "stream",
     "text": [
      "Parsing /home/edill/ixs-data/20150610\n",
      "Parsing /home/edill/ixs-data/20150625\n",
      "Parsing /home/edill/ixs-data/20160603\n",
      "Parsing /home/edill/ixs-data/20150323\n",
      "Parsing /home/edill/ixs-data/20150712\n",
      "Parsing /home/edill/ixs-data/20160303a\n",
      "Parsing /home/edill/ixs-data/20160224\n",
      "Parsing /home/edill/ixs-data/20150805\n",
      "Parsing /home/edill/ixs-data/20160211\n",
      "Parsing /home/edill/ixs-data/20160405\n",
      "Parsing /home/edill/ixs-data/20160219\n",
      "Parsing /home/edill/ixs-data/20151022\n",
      "Parsing /home/edill/ixs-data/20151111\n",
      "Parsing /home/edill/ixs-data/20160130\n",
      "Parsing /home/edill/ixs-data/20160216\n",
      "Parsing /home/edill/ixs-data/20150629\n",
      "Parsing /home/edill/ixs-data/20150424\n",
      "Parsing /home/edill/ixs-data/20150413\n",
      "Parsing /home/edill/ixs-data/20150930\n",
      "Parsing /home/edill/ixs-data/20160323\n",
      "Parsing /home/edill/ixs-data/20150915\n",
      "Parsing /home/edill/ixs-data/20160121\n",
      "Parsing /home/edill/ixs-data/20150617\n",
      "Parsing /home/edill/ixs-data/20151003\n",
      "Parsing /home/edill/ixs-data/20160413\n",
      "Parsing /home/edill/ixs-data/20160309\n",
      "Parsing /home/edill/ixs-data/20151118\n",
      "Parsing /home/edill/ixs-data/20160201\n",
      "Parsing /home/edill/ixs-data/20160213\n",
      "Parsing /home/edill/ixs-data/20160307\n",
      "Parsing /home/edill/ixs-data/20150330\n",
      "Parsing /home/edill/ixs-data/20160303\n",
      "Parsing /home/edill/ixs-data/20151011\n",
      "Parsing /home/edill/ixs-data/20160127\n",
      "Parsing /home/edill/ixs-data/20160408\n",
      "Parsing /home/edill/ixs-data/20151028\n",
      "Parsing /home/edill/ixs-data/20160203\n",
      "Parsing /home/edill/ixs-data/20151113\n",
      "Parsing /home/edill/ixs-data/20150724\n",
      "Parsing /home/edill/ixs-data/20160315\n",
      "Parsing /home/edill/ixs-data/20160330\n",
      "Parsing /home/edill/ixs-data/20160316\n"
     ]
    }
   ],
   "source": [
    "files = files_list.copy()\n",
    "specfiles = []\n",
    "while files:\n",
    "    f = files.pop()\n",
    "    print(\"Parsing\", f)\n",
    "    specfiles.append(spec.Specfile(f))"
   ]
  },
  {
   "cell_type": "markdown",
   "metadata": {},
   "source": [
    "### Then try to insert each scan into metadatastore"
   ]
  },
  {
   "cell_type": "code",
   "execution_count": null,
   "metadata": {
    "collapsed": false
   },
   "outputs": [
    {
     "name": "stdout",
     "output_type": "stream",
     "text": [
      "Inserting content from /home/edill/ixs-data/20150610 into metadatastore\n",
      "Inserting content from /home/edill/ixs-data/20150625 into metadatastore\n",
      "Inserting content from /home/edill/ixs-data/20160603 into metadatastore\n",
      "Inserting content from /home/edill/ixs-data/20150323 into metadatastore\n",
      "Inserting content from /home/edill/ixs-data/20150712 into metadatastore\n",
      "Inserting content from /home/edill/ixs-data/20160303a into metadatastore\n"
     ]
    }
   ],
   "source": [
    "for specfile in specfiles:\n",
    "    print(\"Inserting content from {} into metadatastore\".format(specfile.filename))\n",
    "    output[specfile.filename] = spec.insert_specfile_into_broker(specfile)\n"
   ]
  },
  {
   "cell_type": "code",
   "execution_count": null,
   "metadata": {
    "collapsed": false
   },
   "outputs": [],
   "source": [
    "\n",
    "for fname, ret in output.items():\n",
    "    spec.summarize_insertion(*ret)"
   ]
  },
  {
   "cell_type": "code",
   "execution_count": null,
   "metadata": {
    "collapsed": false
   },
   "outputs": [],
   "source": [
    "ret[0]"
   ]
  },
  {
   "cell_type": "code",
   "execution_count": null,
   "metadata": {
    "collapsed": true
   },
   "outputs": [],
   "source": []
  }
 ],
 "metadata": {
  "kernelspec": {
   "display_name": "Python 3",
   "language": "python",
   "name": "python3"
  },
  "language_info": {
   "codemirror_mode": {
    "name": "ipython",
    "version": 3
   },
   "file_extension": ".py",
   "mimetype": "text/x-python",
   "name": "python",
   "nbconvert_exporter": "python",
   "pygments_lexer": "ipython3",
   "version": "3.5.0"
  },
  "widgets": {
   "state": {},
   "version": "1.1.2"
  }
 },
 "nbformat": 4,
 "nbformat_minor": 0
}
